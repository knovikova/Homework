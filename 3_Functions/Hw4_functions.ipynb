{
 "cells": [
  {
   "cell_type": "markdown",
   "metadata": {},
   "source": [
    "# Домашнее задание к лекции \"Функции\""
   ]
  },
  {
   "cell_type": "code",
   "execution_count": null,
   "metadata": {},
   "outputs": [],
   "source": [
    "documents = [\n",
    " {'type': 'passport', 'number': '2207 876234', 'name': 'Василий Гупкин'},\n",
    " {'type': 'invoice', 'number': '11-2', 'name': 'Геннадий Покемонов'},\n",
    " {'type': 'insurance', 'number': '10006', 'name': 'Аристарх Павлов'}\n",
    "]\n",
    "\n",
    "directories = {\n",
    " '1': ['2207 876234', '11-2'],\n",
    " '2': ['10006'],\n",
    " '3': []\n",
    "}"
   ]
  },
  {
   "cell_type": "markdown",
   "metadata": {},
   "source": [
    "## Задание 1"
   ]
  },
  {
   "cell_type": "markdown",
   "metadata": {},
   "source": [
    "### Пункт 1. Пользователь по команде \"p\" может узнать владельца документа по его номеру"
   ]
  },
  {
   "cell_type": "code",
   "execution_count": null,
   "metadata": {},
   "outputs": [],
   "source": [
    "def searching_for_name(docs):\n",
    "    user_input_1 = input('Введите номер документа:\\n')\n",
    "    for doc in docs:\n",
    "        if user_input_1 == doc['number']:\n",
    "            return f\"Владелец документа: {doc['name']}\"\n",
    "    else:\n",
    "        return f'Документ не найден в базе'\n",
    "        \n",
    "print(searching_for_name(documents))"
   ]
  },
  {
   "cell_type": "markdown",
   "metadata": {},
   "source": [
    "### Пункт 2. Пользователь по команде \"s\" может по номеру документа узнать на какой полке он хранится"
   ]
  },
  {
   "cell_type": "code",
   "execution_count": 22,
   "metadata": {},
   "outputs": [
    {
     "name": "stdout",
     "output_type": "stream",
     "text": [
      "Введите номер документа:\n",
      "11-2\n",
      "Документ хранится на полке: 1\n"
     ]
    }
   ],
   "source": [
    "def searching_for_dir(dirs):\n",
    "    user_input_2 = input('Введите номер документа:\\n')\n",
    "    for key, value in dirs.items():\n",
    "        if user_input_2 in value:\n",
    "            return f'Документ хранится на полке: {key}'\n",
    "    else:\n",
    "        return 'Документ не найден в базе'\n",
    "\n",
    "print(searching_for_dir(directories))"
   ]
  },
  {
   "cell_type": "markdown",
   "metadata": {},
   "source": [
    "### Пункт 3. Пользователь по команде \"l\" может увидеть полную информацию по всем документам"
   ]
  },
  {
   "cell_type": "code",
   "execution_count": 18,
   "metadata": {},
   "outputs": [
    {
     "ename": "NameError",
     "evalue": "name 'z' is not defined",
     "output_type": "error",
     "traceback": [
      "\u001b[1;31m---------------------------------------------------------------------------\u001b[0m",
      "\u001b[1;31mNameError\u001b[0m                                 Traceback (most recent call last)",
      "\u001b[1;32m<ipython-input-18-6d7a8481685e>\u001b[0m in \u001b[0;36m<module>\u001b[1;34m\u001b[0m\n\u001b[0;32m      5\u001b[0m             \u001b[1;32mreturn\u001b[0m \u001b[0mk\u001b[0m\u001b[1;33m\u001b[0m\u001b[1;33m\u001b[0m\u001b[0m\n\u001b[0;32m      6\u001b[0m \u001b[1;33m\u001b[0m\u001b[0m\n\u001b[1;32m----> 7\u001b[1;33m \u001b[0mvlookup_dir\u001b[0m\u001b[1;33m(\u001b[0m\u001b[0mdirectories\u001b[0m\u001b[1;33m,\u001b[0m \u001b[0mz\u001b[0m\u001b[1;33m)\u001b[0m\u001b[1;33m\u001b[0m\u001b[1;33m\u001b[0m\u001b[0m\n\u001b[0m",
      "\u001b[1;31mNameError\u001b[0m: name 'z' is not defined"
     ]
    }
   ],
   "source": [
    "# вспомогательная функция, подтягиающая номер полки по номеру документа:\n",
    "def vlookup_dir(dirs, z):\n",
    "    for k, v in dirs.items():\n",
    "        if z in v:\n",
    "            return k\n",
    "\n",
    "vlookup_dir(directories, z)    "
   ]
  },
  {
   "cell_type": "code",
   "execution_count": 19,
   "metadata": {},
   "outputs": [
    {
     "name": "stdout",
     "output_type": "stream",
     "text": [
      "№: 2207 876234, тип: passport, владелец: Василий Гупкин, полка хренения: 1\n",
      "№: 11-2, тип: invoice, владелец: Геннадий Покемонов, полка хренения: 1\n",
      "№: 10006, тип: insurance, владелец: Аристарх Павлов, полка хренения: 2\n"
     ]
    }
   ],
   "source": [
    "def breakown(docs, dirs):\n",
    "    for item in docs:\n",
    "        i = f\"№: {item['number']}, тип: {item['type']}, владелец: {item['name']}, полка хренения: {vlookup_dir(dirs, item['number'])}\"\n",
    "        print(i)\n",
    "\n",
    "breakown(documents, directories)"
   ]
  },
  {
   "cell_type": "markdown",
   "metadata": {},
   "source": [
    "### Пункт 4. Пользователь по команде \"ads\" может добавить новую полку"
   ]
  },
  {
   "cell_type": "code",
   "execution_count": 94,
   "metadata": {},
   "outputs": [
    {
     "name": "stdout",
     "output_type": "stream",
     "text": [
      "Введите номер полки:\n",
      "1\n",
      "Такая полка уже существует. Текущий перечень полок: ['1', '2', '3']\n"
     ]
    }
   ],
   "source": [
    "def new_dir(dirs):\n",
    "    user_input_4 = input('Введите номер полки:\\n')\n",
    "    if user_input_4 not in dirs.keys():\n",
    "            dirs[user_input_4] = []\n",
    "            return f'Полка добавлена. Текущий перечень полок: {list(dirs.keys())}'\n",
    "    else:\n",
    "        return f'Такая полка уже существует. Текущий перечень полок: {list(dirs.keys())}'\n",
    "\n",
    "print(new_dir(directories))"
   ]
  },
  {
   "cell_type": "markdown",
   "metadata": {},
   "source": [
    "### Пункт 5. Пользователь по команде \"ds\" может удалить существующую полку из данных (только если она пустая)"
   ]
  },
  {
   "cell_type": "code",
   "execution_count": 95,
   "metadata": {},
   "outputs": [
    {
     "name": "stdout",
     "output_type": "stream",
     "text": [
      "Введите номер полки:\n",
      "2\n",
      "На полке есть документа, удалите их перед удалением полки. Текущий перечень полок: ['1', '2', '3']\n"
     ]
    }
   ],
   "source": [
    "def delete_dir(dirs):\n",
    "    user_input_5 = input('Введите номер полки:\\n')\n",
    "    for shelfs, items in dirs.items():\n",
    "        if user_input_5 in shelfs:\n",
    "            if len(items) == 0:\n",
    "                del(dirs[user_input_5])\n",
    "                return f'Полка удалена. Текущий перечень полок: {list(dirs.keys())}'\n",
    "            else:\n",
    "                return f'На полке есть документы, удалите их перед удалением полки. Текущий перечень полок: {list(dirs.keys())}'\n",
    "    else:\n",
    "            return f'Такой полки не существует. Текущий перечень полок: {list(dirs.keys())}'\n",
    "              \n",
    "print(delete_dir(directories))"
   ]
  },
  {
   "cell_type": "markdown",
   "metadata": {},
   "source": [
    "### Пункт 1 - 5 в общей команде"
   ]
  },
  {
   "cell_type": "code",
   "execution_count": null,
   "metadata": {},
   "outputs": [],
   "source": [
    "def final(docs, dirs):\n",
    "    while True:\n",
    "        user_input = input('Введите команду: ')\n",
    "        if user_input == 'p':\n",
    "            print(searching_for_name(docs))\n",
    "            print()\n",
    "        elif user_input == 's':\n",
    "            print(searching_for_dir(dirs))\n",
    "            print()\n",
    "        elif user_input == 'l':\n",
    "            print(breakown(docs, dirs))\n",
    "            print()\n",
    "        elif user_input == 'ads':\n",
    "            print(new_dir(dirs))\n",
    "            print()\n",
    "        elif user_input == 'ds':\n",
    "            print(delete_dir(dirs))\n",
    "            print()\n",
    "        elif user_input == 'q':\n",
    "            print('Завершение программы')\n",
    "            break\n",
    "    \n",
    "final(documents, directories)"
   ]
  },
  {
   "cell_type": "markdown",
   "metadata": {},
   "source": [
    "## Задание 2"
   ]
  },
  {
   "cell_type": "markdown",
   "metadata": {},
   "source": [
    "### Пункт 1. Пользователь по команде \"ad\" может добавить новый документ в данные"
   ]
  },
  {
   "cell_type": "code",
   "execution_count": 41,
   "metadata": {},
   "outputs": [
    {
     "name": "stdout",
     "output_type": "stream",
     "text": [
      "Введите номер документа:\n",
      "85\n",
      "Введите тип документа:\n",
      "pass\n",
      "Введите владельца документа:\n",
      "Harry Potter\n",
      "Введите полку для хранения:\n",
      "3\n",
      "Документ добавлен. Текущий список документов:\n",
      "\n",
      "№: 2207 876234, тип: passport, владелец: Василий Гупкин, полка хренения: 1\n",
      "№: 11-2, тип: invoice, владелец: Геннадий Покемонов, полка хренения: 1\n",
      "№: 10006, тип: insurance, владелец: Аристарх Павлов, полка хренения: 2\n",
      "№: 85, тип: pass, владелец: Harry Potter, полка хренения: 3\n",
      "None\n"
     ]
    }
   ],
   "source": [
    "def new_doc(docs, dirs):\n",
    "    user_input_6 = input('Введите номер документа:\\n')\n",
    "    user_input_7 = input('Введите тип документа:\\n')\n",
    "    user_input_8 = input('Введите владельца документа:\\n')\n",
    "    user_input_9 = input('Введите полку для хранения:\\n')\n",
    "    if user_input_9 not in dirs.keys():\n",
    "            print('Такой полки не существует. Добавьте полку командой as.\\nТекущий список документов:\\n')\n",
    "            print(breakown(docs, dirs))\n",
    "    else:\n",
    "        new = {'type': user_input_7, 'number': user_input_6, 'name': user_input_8}\n",
    "        docs.append(new)\n",
    "        for k, v in dirs.items():\n",
    "            if user_input_9 in k:\n",
    "                v.append(user_input_6)\n",
    "        print('Документ добавлен. Текущий список документов:\\n')\n",
    "        print(breakown(docs, dirs))\n",
    "    \n",
    "new_doc(documents, directories)"
   ]
  },
  {
   "cell_type": "markdown",
   "metadata": {},
   "source": [
    "### Пункт 2. Пользователь по команде \"d\" может удалить документ из данных¶"
   ]
  },
  {
   "cell_type": "code",
   "execution_count": 116,
   "metadata": {},
   "outputs": [
    {
     "name": "stdout",
     "output_type": "stream",
     "text": [
      "Введите номер документа:\n",
      "11-2\n",
      "Документ удален.\n",
      "Текущий список документов:\n",
      "\n",
      "№: 2207 876234, тип: passport, владелец: Василий Гупкин, полка хренения: 1\n",
      "№: 10006, тип: insurance, владелец: Аристарх Павлов, полка хренения: 2\n",
      "None\n"
     ]
    }
   ],
   "source": [
    "def delete_doc(docs, dirs):\n",
    "    user_input_10 = input('Введите номер документа:\\n')\n",
    "    for ind, s in enumerate(docs):\n",
    "        if user_input_10 == s['number']:\n",
    "            del(docs[ind])\n",
    "            for f in dirs.values():\n",
    "                if user_input_10 in f:\n",
    "                    f.remove(user_input_10)\n",
    "            print(\"Документ удален.\\nТекущий список документов:\\n\")\n",
    "            break\n",
    "    else:\n",
    "        print(\"Документ не найден в базе.\\nТекущий список документов:\\n\")\n",
    "    print(breakown(docs, dirs))\n",
    "    \n",
    "delete_doc(documents, directories)"
   ]
  },
  {
   "cell_type": "markdown",
   "metadata": {},
   "source": [
    "### Пункт 3. Пользователь по команде \"m\" может переместить документ с полки на полку"
   ]
  },
  {
   "cell_type": "code",
   "execution_count": 38,
   "metadata": {},
   "outputs": [
    {
     "name": "stdout",
     "output_type": "stream",
     "text": [
      "Введите номер документа:\n",
      "11-2\n",
      "Введите номер полки:\n",
      "3\n",
      "Такой полки не существует. Текущий перечень полок: ['1', '2', '3']\n"
     ]
    }
   ],
   "source": [
    "def change_dir(docs, dirs):\n",
    "    user_input_11 = input('Введите номер документа:\\n')\n",
    "    user_input_12 = input('Введите номер полки:\\n')\n",
    "    for h, j in dirs.items():\n",
    "        if user_input_11 not in j:\n",
    "            print(f'Документ не найден в базе.\\nТекущий список документов:\\n')\n",
    "            print(breakown(docs, dirs))\n",
    "            break\n",
    "        else:\n",
    "            if user_input_12 not in h:\n",
    "                print(f'Такой полки не существует. Текущий перечень полок: {list(dirs.keys())}')\n",
    "                break\n",
    "            else:\n",
    "                j.append(user_input_11)\n",
    "                for k in dirs.values():\n",
    "                    k.remove(user_input_11)\n",
    "                    print('Документ перемещен.\\nТекущий список документов:\\n')\n",
    "                    print(breakown(docs, dirs))\n",
    "            \n",
    "change_dir(documents, directories)"
   ]
  },
  {
   "cell_type": "markdown",
   "metadata": {},
   "source": [
    "### П. 1-3 в общей команде"
   ]
  },
  {
   "cell_type": "code",
   "execution_count": null,
   "metadata": {},
   "outputs": [],
   "source": [
    "def final_2(docs, dirs):\n",
    "    while True:\n",
    "        user_input = input('Введите команду: ')\n",
    "        if user_input == 'ad':\n",
    "            print(new_doc(docs, dirs))\n",
    "        elif user_input == 'd':\n",
    "            print(delete_doc(docs, dirs))\n",
    "        elif user_input == 'm':\n",
    "            print(change_dir(docs, dirs))\n",
    "        elif user_input == 'q':\n",
    "            print('Завершение программы')\n",
    "            break\n",
    "        \n",
    "final_2(documents, directories)"
   ]
  },
  {
   "cell_type": "code",
   "execution_count": null,
   "metadata": {},
   "outputs": [],
   "source": []
  }
 ],
 "metadata": {
  "kernelspec": {
   "display_name": "Python 3",
   "language": "python",
   "name": "python3"
  },
  "language_info": {
   "codemirror_mode": {
    "name": "ipython",
    "version": 3
   },
   "file_extension": ".py",
   "mimetype": "text/x-python",
   "name": "python",
   "nbconvert_exporter": "python",
   "pygments_lexer": "ipython3",
   "version": "3.8.5"
  }
 },
 "nbformat": 4,
 "nbformat_minor": 4
}
