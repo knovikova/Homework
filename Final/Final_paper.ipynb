{
 "cells": [
  {
   "cell_type": "markdown",
   "id": "cdbb9755",
   "metadata": {},
   "source": [
    "#### Признаки:\n",
    "1. **satisfaction_level** - Уровень удовлетворенности работой  \n",
    "2. **Last_evaluation** - Время с момента последней оценки в годах  \n",
    "3. **number_projects** - Количество проектов, выполненных за время работы  \n",
    "4. **average_monthly_hours** - Среднее количество часов на рабочем месте в месяц  \n",
    "5. **time_spend_company** - Стаж работы в компании в годах  \n",
    "6. **work_accident** - Происходили ли несчастные случаи на рабочем месте с сотрудником  \n",
    "7. **left** - уволился ли сотрудник  \n",
    "8. **promotion_last_5years** - повышался ли сотрудник за последние пять лет  \n",
    "9. **department** - отдел в котором работает сотрудник  \n",
    "10. **salary** - относительный уровень зарплаты"
   ]
  },
  {
   "cell_type": "code",
   "execution_count": 7,
   "id": "3cd0dd5b",
   "metadata": {},
   "outputs": [],
   "source": [
    "import pandas as pd\n",
    "import numpy as np\n",
    "import matplotlib.pyplot as plt\n",
    "import seaborn as sns\n",
    "from scipy import stats"
   ]
  },
  {
   "cell_type": "markdown",
   "id": "e1b8306a",
   "metadata": {},
   "source": [
    "## 1. Загрузите файл HR.csv в pandas dataframe"
   ]
  },
  {
   "cell_type": "code",
   "execution_count": 2,
   "id": "d5727599",
   "metadata": {},
   "outputs": [
    {
     "name": "stdout",
     "output_type": "stream",
     "text": [
      "<class 'pandas.core.frame.DataFrame'>\n",
      "RangeIndex: 14999 entries, 0 to 14998\n",
      "Data columns (total 10 columns):\n",
      " #   Column                 Non-Null Count  Dtype  \n",
      "---  ------                 --------------  -----  \n",
      " 0   satisfaction_level     14999 non-null  float64\n",
      " 1   last_evaluation        14999 non-null  float64\n",
      " 2   number_project         14999 non-null  int64  \n",
      " 3   average_montly_hours   14999 non-null  int64  \n",
      " 4   time_spend_company     14999 non-null  int64  \n",
      " 5   Work_accident          14999 non-null  int64  \n",
      " 6   left                   14999 non-null  int64  \n",
      " 7   promotion_last_5years  14999 non-null  int64  \n",
      " 8   department             14999 non-null  object \n",
      " 9   salary                 14999 non-null  object \n",
      "dtypes: float64(2), int64(6), object(2)\n",
      "memory usage: 1.1+ MB\n"
     ]
    }
   ],
   "source": [
    "df = pd.read_csv('HR.csv')\n",
    "df.info()"
   ]
  },
  {
   "cell_type": "markdown",
   "id": "e06ac9a0",
   "metadata": {},
   "source": [
    "Пропуски отсутствуют, не нужна предобработка."
   ]
  },
  {
   "cell_type": "code",
   "execution_count": 6,
   "id": "7cad9c75",
   "metadata": {},
   "outputs": [
    {
     "data": {
      "text/html": [
       "<div>\n",
       "<style scoped>\n",
       "    .dataframe tbody tr th:only-of-type {\n",
       "        vertical-align: middle;\n",
       "    }\n",
       "\n",
       "    .dataframe tbody tr th {\n",
       "        vertical-align: top;\n",
       "    }\n",
       "\n",
       "    .dataframe thead th {\n",
       "        text-align: right;\n",
       "    }\n",
       "</style>\n",
       "<table border=\"1\" class=\"dataframe\">\n",
       "  <thead>\n",
       "    <tr style=\"text-align: right;\">\n",
       "      <th></th>\n",
       "      <th>satisfaction_level</th>\n",
       "      <th>last_evaluation</th>\n",
       "      <th>number_project</th>\n",
       "      <th>average_montly_hours</th>\n",
       "      <th>time_spend_company</th>\n",
       "      <th>Work_accident</th>\n",
       "      <th>left</th>\n",
       "      <th>promotion_last_5years</th>\n",
       "      <th>department</th>\n",
       "      <th>salary</th>\n",
       "    </tr>\n",
       "  </thead>\n",
       "  <tbody>\n",
       "    <tr>\n",
       "      <th>0</th>\n",
       "      <td>0.38</td>\n",
       "      <td>0.53</td>\n",
       "      <td>2</td>\n",
       "      <td>157</td>\n",
       "      <td>3</td>\n",
       "      <td>0</td>\n",
       "      <td>1</td>\n",
       "      <td>0</td>\n",
       "      <td>sales</td>\n",
       "      <td>low</td>\n",
       "    </tr>\n",
       "    <tr>\n",
       "      <th>1</th>\n",
       "      <td>0.80</td>\n",
       "      <td>0.86</td>\n",
       "      <td>5</td>\n",
       "      <td>262</td>\n",
       "      <td>6</td>\n",
       "      <td>0</td>\n",
       "      <td>1</td>\n",
       "      <td>0</td>\n",
       "      <td>sales</td>\n",
       "      <td>medium</td>\n",
       "    </tr>\n",
       "    <tr>\n",
       "      <th>2</th>\n",
       "      <td>0.11</td>\n",
       "      <td>0.88</td>\n",
       "      <td>7</td>\n",
       "      <td>272</td>\n",
       "      <td>4</td>\n",
       "      <td>0</td>\n",
       "      <td>1</td>\n",
       "      <td>0</td>\n",
       "      <td>sales</td>\n",
       "      <td>medium</td>\n",
       "    </tr>\n",
       "    <tr>\n",
       "      <th>3</th>\n",
       "      <td>0.72</td>\n",
       "      <td>0.87</td>\n",
       "      <td>5</td>\n",
       "      <td>223</td>\n",
       "      <td>5</td>\n",
       "      <td>0</td>\n",
       "      <td>1</td>\n",
       "      <td>0</td>\n",
       "      <td>sales</td>\n",
       "      <td>low</td>\n",
       "    </tr>\n",
       "    <tr>\n",
       "      <th>4</th>\n",
       "      <td>0.37</td>\n",
       "      <td>0.52</td>\n",
       "      <td>2</td>\n",
       "      <td>159</td>\n",
       "      <td>3</td>\n",
       "      <td>0</td>\n",
       "      <td>1</td>\n",
       "      <td>0</td>\n",
       "      <td>sales</td>\n",
       "      <td>low</td>\n",
       "    </tr>\n",
       "  </tbody>\n",
       "</table>\n",
       "</div>"
      ],
      "text/plain": [
       "   satisfaction_level  last_evaluation  number_project  average_montly_hours  \\\n",
       "0                0.38             0.53               2                   157   \n",
       "1                0.80             0.86               5                   262   \n",
       "2                0.11             0.88               7                   272   \n",
       "3                0.72             0.87               5                   223   \n",
       "4                0.37             0.52               2                   159   \n",
       "\n",
       "   time_spend_company  Work_accident  left  promotion_last_5years department  \\\n",
       "0                   3              0     1                      0      sales   \n",
       "1                   6              0     1                      0      sales   \n",
       "2                   4              0     1                      0      sales   \n",
       "3                   5              0     1                      0      sales   \n",
       "4                   3              0     1                      0      sales   \n",
       "\n",
       "   salary  \n",
       "0     low  \n",
       "1  medium  \n",
       "2  medium  \n",
       "3     low  \n",
       "4     low  "
      ]
     },
     "execution_count": 6,
     "metadata": {},
     "output_type": "execute_result"
    }
   ],
   "source": [
    "df.head()"
   ]
  },
  {
   "cell_type": "markdown",
   "id": "33b04574",
   "metadata": {},
   "source": [
    "## 2. Рассчитайте основные статистики для переменных(среднее,медиана,мода,мин/макс,сред.отклонение)."
   ]
  },
  {
   "cell_type": "code",
   "execution_count": 3,
   "id": "cfe48a1d",
   "metadata": {},
   "outputs": [],
   "source": [
    "# разделим массив на количественные и качественные данные\n",
    "quantitative = df[['satisfaction_level', 'last_evaluation', 'number_project', 'average_montly_hours', 'time_spend_company']]\n",
    "\n",
    "qualitative = df[['Work_accident', 'left', 'promotion_last_5years', 'department', 'salary']]"
   ]
  },
  {
   "cell_type": "code",
   "execution_count": 4,
   "id": "b8588e98",
   "metadata": {},
   "outputs": [
    {
     "data": {
      "text/html": [
       "<div>\n",
       "<style scoped>\n",
       "    .dataframe tbody tr th:only-of-type {\n",
       "        vertical-align: middle;\n",
       "    }\n",
       "\n",
       "    .dataframe tbody tr th {\n",
       "        vertical-align: top;\n",
       "    }\n",
       "\n",
       "    .dataframe thead th {\n",
       "        text-align: right;\n",
       "    }\n",
       "</style>\n",
       "<table border=\"1\" class=\"dataframe\">\n",
       "  <thead>\n",
       "    <tr style=\"text-align: right;\">\n",
       "      <th></th>\n",
       "      <th>satisfaction_level</th>\n",
       "      <th>last_evaluation</th>\n",
       "      <th>number_project</th>\n",
       "      <th>average_montly_hours</th>\n",
       "      <th>time_spend_company</th>\n",
       "    </tr>\n",
       "  </thead>\n",
       "  <tbody>\n",
       "    <tr>\n",
       "      <th>count</th>\n",
       "      <td>14999.000000</td>\n",
       "      <td>14999.000000</td>\n",
       "      <td>14999.000000</td>\n",
       "      <td>14999.000000</td>\n",
       "      <td>14999.000000</td>\n",
       "    </tr>\n",
       "    <tr>\n",
       "      <th>mean</th>\n",
       "      <td>0.612834</td>\n",
       "      <td>0.716102</td>\n",
       "      <td>3.803054</td>\n",
       "      <td>201.050337</td>\n",
       "      <td>3.498233</td>\n",
       "    </tr>\n",
       "    <tr>\n",
       "      <th>std</th>\n",
       "      <td>0.248631</td>\n",
       "      <td>0.171169</td>\n",
       "      <td>1.232592</td>\n",
       "      <td>49.943099</td>\n",
       "      <td>1.460136</td>\n",
       "    </tr>\n",
       "    <tr>\n",
       "      <th>min</th>\n",
       "      <td>0.090000</td>\n",
       "      <td>0.360000</td>\n",
       "      <td>2.000000</td>\n",
       "      <td>96.000000</td>\n",
       "      <td>2.000000</td>\n",
       "    </tr>\n",
       "    <tr>\n",
       "      <th>25%</th>\n",
       "      <td>0.440000</td>\n",
       "      <td>0.560000</td>\n",
       "      <td>3.000000</td>\n",
       "      <td>156.000000</td>\n",
       "      <td>3.000000</td>\n",
       "    </tr>\n",
       "    <tr>\n",
       "      <th>50%</th>\n",
       "      <td>0.640000</td>\n",
       "      <td>0.720000</td>\n",
       "      <td>4.000000</td>\n",
       "      <td>200.000000</td>\n",
       "      <td>3.000000</td>\n",
       "    </tr>\n",
       "    <tr>\n",
       "      <th>75%</th>\n",
       "      <td>0.820000</td>\n",
       "      <td>0.870000</td>\n",
       "      <td>5.000000</td>\n",
       "      <td>245.000000</td>\n",
       "      <td>4.000000</td>\n",
       "    </tr>\n",
       "    <tr>\n",
       "      <th>max</th>\n",
       "      <td>1.000000</td>\n",
       "      <td>1.000000</td>\n",
       "      <td>7.000000</td>\n",
       "      <td>310.000000</td>\n",
       "      <td>10.000000</td>\n",
       "    </tr>\n",
       "  </tbody>\n",
       "</table>\n",
       "</div>"
      ],
      "text/plain": [
       "       satisfaction_level  last_evaluation  number_project  \\\n",
       "count        14999.000000     14999.000000    14999.000000   \n",
       "mean             0.612834         0.716102        3.803054   \n",
       "std              0.248631         0.171169        1.232592   \n",
       "min              0.090000         0.360000        2.000000   \n",
       "25%              0.440000         0.560000        3.000000   \n",
       "50%              0.640000         0.720000        4.000000   \n",
       "75%              0.820000         0.870000        5.000000   \n",
       "max              1.000000         1.000000        7.000000   \n",
       "\n",
       "       average_montly_hours  time_spend_company  \n",
       "count          14999.000000        14999.000000  \n",
       "mean             201.050337            3.498233  \n",
       "std               49.943099            1.460136  \n",
       "min               96.000000            2.000000  \n",
       "25%              156.000000            3.000000  \n",
       "50%              200.000000            3.000000  \n",
       "75%              245.000000            4.000000  \n",
       "max              310.000000           10.000000  "
      ]
     },
     "execution_count": 4,
     "metadata": {},
     "output_type": "execute_result"
    }
   ],
   "source": [
    "# для количестенных показателей рассчитаем среднее, СКО, минимум, медиану, максимум\n",
    "quantitative.describe()"
   ]
  },
  {
   "cell_type": "markdown",
   "id": "038e082b",
   "metadata": {},
   "source": [
    "##### Краткий комментарий:\n",
    "satisfaction_level:\n",
    " - медиана и среднее близки и находятся в диапазоне 61-64%\n",
    " - есть люди с крайне низким уровнем удовлетворенности\n",
    " \n",
    "last_evaluation:\n",
    " - последняя оценка проводилась в среднем больше 8 месяцев назад\n",
    " \n",
    "number_project:\n",
    " - сотрудники делают в среднем 4 проекта за время работы, минимум - 2\n",
    "\n",
    "average_montly_hours:\n",
    " - в среднем сотрудники работают 200ч/мес или ~9ч/день (при 22 рабочих днях в месяц)\n",
    " \n",
    "time_spend_company:\n",
    " - средний стаж сотрудника в компании - 4 года\n",
    " - минимальный стаж в 2 года, может свидетельствовать о невысокой текучести кадров"
   ]
  },
  {
   "cell_type": "code",
   "execution_count": 46,
   "id": "b7e5e53c",
   "metadata": {},
   "outputs": [
    {
     "data": {
      "text/html": [
       "<div>\n",
       "<style scoped>\n",
       "    .dataframe tbody tr th:only-of-type {\n",
       "        vertical-align: middle;\n",
       "    }\n",
       "\n",
       "    .dataframe tbody tr th {\n",
       "        vertical-align: top;\n",
       "    }\n",
       "\n",
       "    .dataframe thead th {\n",
       "        text-align: right;\n",
       "    }\n",
       "</style>\n",
       "<table border=\"1\" class=\"dataframe\">\n",
       "  <thead>\n",
       "    <tr style=\"text-align: right;\">\n",
       "      <th></th>\n",
       "      <th>Work_accident</th>\n",
       "      <th>left</th>\n",
       "      <th>promotion_last_5years</th>\n",
       "      <th>department</th>\n",
       "      <th>salary</th>\n",
       "    </tr>\n",
       "  </thead>\n",
       "  <tbody>\n",
       "    <tr>\n",
       "      <th>0</th>\n",
       "      <td>0</td>\n",
       "      <td>0</td>\n",
       "      <td>0</td>\n",
       "      <td>sales</td>\n",
       "      <td>low</td>\n",
       "    </tr>\n",
       "  </tbody>\n",
       "</table>\n",
       "</div>"
      ],
      "text/plain": [
       "   Work_accident  left  promotion_last_5years department salary\n",
       "0              0     0                      0      sales    low"
      ]
     },
     "execution_count": 46,
     "metadata": {},
     "output_type": "execute_result"
    }
   ],
   "source": [
    "# для качественных показателей найдем моду, остальные метрики не информативны\n",
    "qualitative.mode()"
   ]
  },
  {
   "cell_type": "code",
   "execution_count": 27,
   "id": "7dd8fd17",
   "metadata": {},
   "outputs": [
    {
     "data": {
      "text/plain": [
       "sales          0.276018\n",
       "technical      0.181345\n",
       "support        0.148610\n",
       "IT             0.081805\n",
       "product_mng    0.060137\n",
       "marketing      0.057204\n",
       "RandD          0.052470\n",
       "accounting     0.051137\n",
       "hr             0.049270\n",
       "management     0.042003\n",
       "Name: department, dtype: float64"
      ]
     },
     "execution_count": 27,
     "metadata": {},
     "output_type": "execute_result"
    }
   ],
   "source": [
    "df['department'].value_counts(normalize=True)"
   ]
  },
  {
   "cell_type": "code",
   "execution_count": 28,
   "id": "afabdfdd",
   "metadata": {},
   "outputs": [
    {
     "data": {
      "text/plain": [
       "low       0.487766\n",
       "medium    0.429762\n",
       "high      0.082472\n",
       "Name: salary, dtype: float64"
      ]
     },
     "execution_count": 28,
     "metadata": {},
     "output_type": "execute_result"
    }
   ],
   "source": [
    "df['salary'].value_counts(normalize=True)"
   ]
  },
  {
   "cell_type": "code",
   "execution_count": 35,
   "id": "06c32f71",
   "metadata": {},
   "outputs": [
    {
     "data": {
      "text/plain": [
       "0    0.761917\n",
       "1    0.238083\n",
       "Name: left, dtype: float64"
      ]
     },
     "execution_count": 35,
     "metadata": {},
     "output_type": "execute_result"
    }
   ],
   "source": [
    "qualitative['left'].value_counts(normalize=True)"
   ]
  },
  {
   "cell_type": "code",
   "execution_count": 47,
   "id": "f7e59d7b",
   "metadata": {},
   "outputs": [
    {
     "data": {
      "text/plain": [
       "0    0.85539\n",
       "1    0.14461\n",
       "Name: Work_accident, dtype: float64"
      ]
     },
     "execution_count": 47,
     "metadata": {},
     "output_type": "execute_result"
    }
   ],
   "source": [
    "qualitative['Work_accident'].value_counts(normalize=True)"
   ]
  },
  {
   "cell_type": "code",
   "execution_count": 48,
   "id": "e5b04ff3",
   "metadata": {},
   "outputs": [
    {
     "data": {
      "text/plain": [
       "0    0.978732\n",
       "1    0.021268\n",
       "Name: promotion_last_5years, dtype: float64"
      ]
     },
     "execution_count": 48,
     "metadata": {},
     "output_type": "execute_result"
    }
   ],
   "source": [
    "qualitative['promotion_last_5years'].value_counts(normalize=True)"
   ]
  },
  {
   "cell_type": "markdown",
   "id": "76426758",
   "metadata": {},
   "source": [
    "Самое большое количество сотрудников за рассматриваемый период работало в отделе продаж. Большая часть сотрудников в датасете - низкооплачиваемые. Уволившихся сотрудников - меньшинство,  основном  датасете предстален текущий персонал. Несчатные случаи на рабочем месте имеют место, что-то более конкретное можно будет сказать только после более глубокого узучения с использованием дополнительной информации о характере травм и обстоятельстах случившегося. Подавляющее большинство сотрудников из датасета не промоутилось за последние 5 лет."
   ]
  },
  {
   "cell_type": "markdown",
   "id": "41643544",
   "metadata": {},
   "source": [
    "## 3. Рассчитайте и визуализируйте корреляционную матрицу для количественных переменных.  \n",
    "## Определите две самые скоррелированные и две наименее скоррелированные переменные."
   ]
  },
  {
   "cell_type": "code",
   "execution_count": 4,
   "id": "cb9fb1e0",
   "metadata": {},
   "outputs": [
    {
     "data": {
      "text/plain": [
       "<AxesSubplot:>"
      ]
     },
     "execution_count": 4,
     "metadata": {},
     "output_type": "execute_result"
    },
    {
     "data": {
      "image/png": "[encoded data removed]",
      "text/plain": [
       "<Figure size 432x288 with 2 Axes>"
      ]
     },
     "metadata": {
      "needs_background": "light"
     },
     "output_type": "display_data"
    }
   ],
   "source": [
    "sns.heatmap(quantitative.corr(), annot=True)"
   ]
  },
  {
   "cell_type": "markdown",
   "id": "17681710",
   "metadata": {},
   "source": [
    "Отметим общий низкий уровень корреляции между показателями (< 0.5).  \n",
    "\n",
    "Некоторый уровень корреляции (0.42) наблюдается между общим количестом проектов, выполненных сотрудником, и среднемесячными рабочими часами. Он выделяется на общем фоне, однако, нельзя сказать, что между показателями существует устойчивая сильная связь. Предположу, что связь носит нелинейный характер: до какого-то момента увеличение рабочих часов действительно увеличивает количество реализованных проектов, но со временем приводит к переутомлению и производительность резко падает.  \n",
    "\n",
    "Наименьшую взаимосвязь показали среднемесячные рабочие часы и уровень удовлетворенности сотрудников (-0.02). Предварительный анализ показывает, что в среднем сотрудники не перерабатывают, возможно у большинства есть регламентированные рабочие часы, на которые они не могут повлиять, что объясняет отсутствие связи с уровнем удовлетворенности работой."
   ]
  },
  {
   "cell_type": "markdown",
   "id": "0a3ed9ce",
   "metadata": {},
   "source": [
    "## 4. Рассчитайте сколько сотрудников работает в каждом департаменте."
   ]
  },
  {
   "cell_type": "code",
   "execution_count": 12,
   "id": "28545d20",
   "metadata": {},
   "outputs": [
    {
     "data": {
      "text/html": [
       "<div>\n",
       "<style scoped>\n",
       "    .dataframe tbody tr th:only-of-type {\n",
       "        vertical-align: middle;\n",
       "    }\n",
       "\n",
       "    .dataframe tbody tr th {\n",
       "        vertical-align: top;\n",
       "    }\n",
       "\n",
       "    .dataframe thead th {\n",
       "        text-align: right;\n",
       "    }\n",
       "</style>\n",
       "<table border=\"1\" class=\"dataframe\">\n",
       "  <thead>\n",
       "    <tr style=\"text-align: right;\">\n",
       "      <th>left</th>\n",
       "      <th>department</th>\n",
       "      <th>0</th>\n",
       "      <th>All</th>\n",
       "    </tr>\n",
       "  </thead>\n",
       "  <tbody>\n",
       "    <tr>\n",
       "      <th>3</th>\n",
       "      <td>hr</td>\n",
       "      <td>524</td>\n",
       "      <td>524</td>\n",
       "    </tr>\n",
       "    <tr>\n",
       "      <th>4</th>\n",
       "      <td>management</td>\n",
       "      <td>539</td>\n",
       "      <td>539</td>\n",
       "    </tr>\n",
       "    <tr>\n",
       "      <th>2</th>\n",
       "      <td>accounting</td>\n",
       "      <td>563</td>\n",
       "      <td>563</td>\n",
       "    </tr>\n",
       "    <tr>\n",
       "      <th>5</th>\n",
       "      <td>marketing</td>\n",
       "      <td>655</td>\n",
       "      <td>655</td>\n",
       "    </tr>\n",
       "    <tr>\n",
       "      <th>1</th>\n",
       "      <td>RandD</td>\n",
       "      <td>666</td>\n",
       "      <td>666</td>\n",
       "    </tr>\n",
       "    <tr>\n",
       "      <th>6</th>\n",
       "      <td>product_mng</td>\n",
       "      <td>704</td>\n",
       "      <td>704</td>\n",
       "    </tr>\n",
       "    <tr>\n",
       "      <th>0</th>\n",
       "      <td>IT</td>\n",
       "      <td>954</td>\n",
       "      <td>954</td>\n",
       "    </tr>\n",
       "    <tr>\n",
       "      <th>8</th>\n",
       "      <td>support</td>\n",
       "      <td>1674</td>\n",
       "      <td>1674</td>\n",
       "    </tr>\n",
       "    <tr>\n",
       "      <th>9</th>\n",
       "      <td>technical</td>\n",
       "      <td>2023</td>\n",
       "      <td>2023</td>\n",
       "    </tr>\n",
       "    <tr>\n",
       "      <th>7</th>\n",
       "      <td>sales</td>\n",
       "      <td>3126</td>\n",
       "      <td>3126</td>\n",
       "    </tr>\n",
       "    <tr>\n",
       "      <th>10</th>\n",
       "      <td>All</td>\n",
       "      <td>11428</td>\n",
       "      <td>11428</td>\n",
       "    </tr>\n",
       "  </tbody>\n",
       "</table>\n",
       "</div>"
      ],
      "text/plain": [
       "left   department      0    All\n",
       "3              hr    524    524\n",
       "4      management    539    539\n",
       "2      accounting    563    563\n",
       "5       marketing    655    655\n",
       "1           RandD    666    666\n",
       "6     product_mng    704    704\n",
       "0              IT    954    954\n",
       "8         support   1674   1674\n",
       "9       technical   2023   2023\n",
       "7           sales   3126   3126\n",
       "10            All  11428  11428"
      ]
     },
     "execution_count": 12,
     "metadata": {},
     "output_type": "execute_result"
    }
   ],
   "source": [
    "# оставим только действующих сотрудников (left=0)\n",
    "staff = df.loc[df['left']==0]\n",
    "\n",
    "staff.pivot_table(index='department', columns='left', values='number_project', aggfunc='count', margins=True).reset_index().sort_values(by=0)"
   ]
  },
  {
   "cell_type": "markdown",
   "id": "f96227c4",
   "metadata": {},
   "source": [
    "Больше всего сотрудников работает в продажах, а самый малочисленный отдел - HR."
   ]
  },
  {
   "cell_type": "markdown",
   "id": "0ac914d5",
   "metadata": {},
   "source": [
    "## 5. Показать распределение сотрудников по зарплатам."
   ]
  },
  {
   "cell_type": "code",
   "execution_count": 6,
   "id": "775cafaf",
   "metadata": {},
   "outputs": [
    {
     "data": {
      "text/html": [
       "<div>\n",
       "<style scoped>\n",
       "    .dataframe tbody tr th:only-of-type {\n",
       "        vertical-align: middle;\n",
       "    }\n",
       "\n",
       "    .dataframe tbody tr th {\n",
       "        vertical-align: top;\n",
       "    }\n",
       "\n",
       "    .dataframe thead th {\n",
       "        text-align: right;\n",
       "    }\n",
       "</style>\n",
       "<table border=\"1\" class=\"dataframe\">\n",
       "  <thead>\n",
       "    <tr style=\"text-align: right;\">\n",
       "      <th></th>\n",
       "      <th>left</th>\n",
       "      <th>salary</th>\n",
       "      <th>department</th>\n",
       "    </tr>\n",
       "  </thead>\n",
       "  <tbody>\n",
       "    <tr>\n",
       "      <th>0</th>\n",
       "      <td>0</td>\n",
       "      <td>high</td>\n",
       "      <td>1155</td>\n",
       "    </tr>\n",
       "    <tr>\n",
       "      <th>1</th>\n",
       "      <td>0</td>\n",
       "      <td>low</td>\n",
       "      <td>5144</td>\n",
       "    </tr>\n",
       "    <tr>\n",
       "      <th>2</th>\n",
       "      <td>0</td>\n",
       "      <td>medium</td>\n",
       "      <td>5129</td>\n",
       "    </tr>\n",
       "    <tr>\n",
       "      <th>3</th>\n",
       "      <td>1</td>\n",
       "      <td>high</td>\n",
       "      <td>82</td>\n",
       "    </tr>\n",
       "    <tr>\n",
       "      <th>4</th>\n",
       "      <td>1</td>\n",
       "      <td>low</td>\n",
       "      <td>2172</td>\n",
       "    </tr>\n",
       "    <tr>\n",
       "      <th>5</th>\n",
       "      <td>1</td>\n",
       "      <td>medium</td>\n",
       "      <td>1317</td>\n",
       "    </tr>\n",
       "  </tbody>\n",
       "</table>\n",
       "</div>"
      ],
      "text/plain": [
       "   left  salary  department\n",
       "0     0    high        1155\n",
       "1     0     low        5144\n",
       "2     0  medium        5129\n",
       "3     1    high          82\n",
       "4     1     low        2172\n",
       "5     1  medium        1317"
      ]
     },
     "execution_count": 6,
     "metadata": {},
     "output_type": "execute_result"
    }
   ],
   "source": [
    "# сгруппируем данные по текущему и уволившемуся персоналу, а также по уровню зарплат\n",
    "salary_left_grouped = df.loc[:, ['salary', 'department', 'left']].groupby(['left', 'salary']).count().reset_index()\n",
    "salary_left_grouped"
   ]
  },
  {
   "cell_type": "code",
   "execution_count": 7,
   "id": "fbd85811",
   "metadata": {},
   "outputs": [
    {
     "data": {
      "text/plain": [
       "<seaborn.axisgrid.FacetGrid at 0x4daf700>"
      ]
     },
     "execution_count": 7,
     "metadata": {},
     "output_type": "execute_result"
    },
    {
     "data": {
      "image/png": "[encoded data removed]",
      "text/plain": [
       "<Figure size 720x360 with 2 Axes>"
      ]
     },
     "metadata": {
      "needs_background": "light"
     },
     "output_type": "display_data"
    }
   ],
   "source": [
    "categories_order = ['low', 'medium', 'high']\n",
    "ax = sns.catplot(data=salary_left_grouped, x='salary', y='department', col='left', kind='bar', order=categories_order)\n",
    "\n",
    "ax.set_axis_labels('Salary categories', 'Quantity of staff')"
   ]
  },
  {
   "cell_type": "markdown",
   "id": "19e3e3e4",
   "metadata": {},
   "source": [
    "В компании больше всего низкооплачиваемых сотрудников, которые, что логично, увольняются чаще."
   ]
  },
  {
   "cell_type": "markdown",
   "id": "3b7a5504",
   "metadata": {},
   "source": [
    "## 6. Показать распределение сотрудников по зарплатам в каждом департаменте по отдельности"
   ]
  },
  {
   "cell_type": "code",
   "execution_count": 37,
   "id": "b48b11db",
   "metadata": {},
   "outputs": [
    {
     "data": {
      "text/html": [
       "<div>\n",
       "<style scoped>\n",
       "    .dataframe tbody tr th:only-of-type {\n",
       "        vertical-align: middle;\n",
       "    }\n",
       "\n",
       "    .dataframe tbody tr th {\n",
       "        vertical-align: top;\n",
       "    }\n",
       "\n",
       "    .dataframe thead th {\n",
       "        text-align: right;\n",
       "    }\n",
       "</style>\n",
       "<table border=\"1\" class=\"dataframe\">\n",
       "  <thead>\n",
       "    <tr style=\"text-align: right;\">\n",
       "      <th>salary</th>\n",
       "      <th>high</th>\n",
       "      <th>low</th>\n",
       "      <th>medium</th>\n",
       "    </tr>\n",
       "    <tr>\n",
       "      <th>department</th>\n",
       "      <th></th>\n",
       "      <th></th>\n",
       "      <th></th>\n",
       "    </tr>\n",
       "  </thead>\n",
       "  <tbody>\n",
       "    <tr>\n",
       "      <th>IT</th>\n",
       "      <td>79</td>\n",
       "      <td>437</td>\n",
       "      <td>438</td>\n",
       "    </tr>\n",
       "    <tr>\n",
       "      <th>RandD</th>\n",
       "      <td>47</td>\n",
       "      <td>309</td>\n",
       "      <td>310</td>\n",
       "    </tr>\n",
       "    <tr>\n",
       "      <th>accounting</th>\n",
       "      <td>69</td>\n",
       "      <td>259</td>\n",
       "      <td>235</td>\n",
       "    </tr>\n",
       "    <tr>\n",
       "      <th>hr</th>\n",
       "      <td>39</td>\n",
       "      <td>243</td>\n",
       "      <td>242</td>\n",
       "    </tr>\n",
       "    <tr>\n",
       "      <th>management</th>\n",
       "      <td>224</td>\n",
       "      <td>121</td>\n",
       "      <td>194</td>\n",
       "    </tr>\n",
       "    <tr>\n",
       "      <th>marketing</th>\n",
       "      <td>71</td>\n",
       "      <td>276</td>\n",
       "      <td>308</td>\n",
       "    </tr>\n",
       "    <tr>\n",
       "      <th>product_mng</th>\n",
       "      <td>62</td>\n",
       "      <td>346</td>\n",
       "      <td>296</td>\n",
       "    </tr>\n",
       "    <tr>\n",
       "      <th>sales</th>\n",
       "      <td>255</td>\n",
       "      <td>1402</td>\n",
       "      <td>1469</td>\n",
       "    </tr>\n",
       "    <tr>\n",
       "      <th>support</th>\n",
       "      <td>133</td>\n",
       "      <td>757</td>\n",
       "      <td>784</td>\n",
       "    </tr>\n",
       "    <tr>\n",
       "      <th>technical</th>\n",
       "      <td>176</td>\n",
       "      <td>994</td>\n",
       "      <td>853</td>\n",
       "    </tr>\n",
       "  </tbody>\n",
       "</table>\n",
       "</div>"
      ],
      "text/plain": [
       "salary       high   low  medium\n",
       "department                     \n",
       "IT             79   437     438\n",
       "RandD          47   309     310\n",
       "accounting     69   259     235\n",
       "hr             39   243     242\n",
       "management    224   121     194\n",
       "marketing      71   276     308\n",
       "product_mng    62   346     296\n",
       "sales         255  1402    1469\n",
       "support       133   757     784\n",
       "technical     176   994     853"
      ]
     },
     "execution_count": 37,
     "metadata": {},
     "output_type": "execute_result"
    }
   ],
   "source": [
    "# для целей анализа возьмем только действующих сотрудников\n",
    "dept_salary = staff.pivot_table(index='department', columns='salary', values='left', aggfunc='count')\n",
    "dept_salary"
   ]
  },
  {
   "cell_type": "code",
   "execution_count": 46,
   "id": "49de10ee",
   "metadata": {},
   "outputs": [
    {
     "data": {
      "image/png": "[encoded data removed]",
      "text/plain": [
       "<Figure size 936x432 with 1 Axes>"
      ]
     },
     "metadata": {
      "needs_background": "light"
     },
     "output_type": "display_data"
    }
   ],
   "source": [
    "dept_salary.plot(kind='bar', xlabel='Department', ylabel='Quantity of staff', stacked=True)\n",
    "\n",
    "from pylab import rcParams\n",
    "rcParams['figure.figsize'] = 13,6"
   ]
  },
  {
   "cell_type": "code",
   "execution_count": 57,
   "id": "f6587e49",
   "metadata": {},
   "outputs": [
    {
     "data": {
      "text/plain": [
       "<AxesSubplot:xlabel='Department', ylabel='Share of staff, %'>"
      ]
     },
     "execution_count": 57,
     "metadata": {},
     "output_type": "execute_result"
    },
    {
     "data": {
      "image/png": "[encoded data removed]",
      "text/plain": [
       "<Figure size 936x432 with 1 Axes>"
      ]
     },
     "metadata": {
      "needs_background": "light"
     },
     "output_type": "display_data"
    }
   ],
   "source": [
    "# рассмотрим также доли разных категорий зарплат по отделам\n",
    "dept_salary_norm = staff.groupby('department')['salary'].value_counts(normalize=True)\n",
    "\n",
    "dept_salary_norm.unstack('salary').plot.bar(xlabel='Department', ylabel='Share of staff, %', stacked=True)"
   ]
  },
  {
   "cell_type": "markdown",
   "id": "b5bc7f0e",
   "metadata": {},
   "source": [
    "В менеджменте большую долю состаляют сотрудники с высокой и средней зарплатой. В остальных отделах сотрудников с низкой и средней зарплатой примерно одинаковое количество."
   ]
  },
  {
   "cell_type": "markdown",
   "id": "fb1dcb1e",
   "metadata": {},
   "source": [
    "## 7. Проверить гипотезу, что сотрудники с высоким окладом проводят на работе больше времени, чем сотрудники с низким окладом."
   ]
  },
  {
   "cell_type": "markdown",
   "id": "0148f3d9",
   "metadata": {},
   "source": [
    "Н1: среднее количество часов на рабочем месте в месяц для высокооплачиваемых сотрудников выше, чем для низкооплачиваемых.  \n",
    "Н0: среднее количество часов на рабочем месте в месяц для высокооплачиваемых сотрудников ниже, чем для низкооплачиваемых.  \n",
    "\n",
    "Рассчитываем односторонний тест для независимых групп.\n",
    "\n",
    "Уровень значимости - 0.05."
   ]
  },
  {
   "cell_type": "code",
   "execution_count": 14,
   "id": "b3d743d8",
   "metadata": {},
   "outputs": [
    {
     "name": "stdout",
     "output_type": "stream",
     "text": [
      "Ttest_indResult(statistic=-0.7624331665385475, pvalue=0.7770477228871056)\n",
      "\n",
      "Н0 не отергаем: высокооплачиваемые сотрудники больше работают.\n"
     ]
    }
   ],
   "source": [
    "# проверяем общую гипотезу, поэтому кажется более логичным взять весь массив данных, без разделения на текущих и бывших сотрудников\n",
    "high_salary = df.loc[df['salary']=='high']['average_montly_hours']\n",
    "low_salary = df.loc[df['salary']=='low']['average_montly_hours']\n",
    "\n",
    "result = stats.ttest_ind(high_salary, low_salary, equal_var=False, alternative='greater')\n",
    "print(result)\n",
    "print()\n",
    "\n",
    "if result.pvalue <= 0.05:\n",
    "    print('Н0 отвергаем: высокооплачиваемые сотрудники меньше работают.')\n",
    "else:\n",
    "    print('Н0 не отергаем: высокооплачиваемые сотрудники больше работают.')"
   ]
  },
  {
   "cell_type": "markdown",
   "id": "18dfb450",
   "metadata": {},
   "source": [
    "## 8. Рассчитать следующие показатели среди уволившихся и неуволившихся сотрудников (по отдельности):\n",
    "●Доля сотрудников с повышением за последние 5 лет  "
   ]
  },
  {
   "cell_type": "code",
   "execution_count": 35,
   "id": "1ed5becd",
   "metadata": {},
   "outputs": [
    {
     "name": "stdout",
     "output_type": "stream",
     "text": [
      "0    0.940439\n",
      "1    0.059561\n",
      "Name: left, dtype: float64\n",
      "\n",
      "Доля сотрудников с повышением за последние 5 лет среди:\n",
      "текущего персонала - 94.04%\n",
      "уволившихся - 5.96%\n"
     ]
    }
   ],
   "source": [
    "promoted = df.loc[df['promotion_last_5years']==1]['left'].value_counts(normalize=True)\n",
    "print(promoted)\n",
    "print()\n",
    "\n",
    "print('Доля сотрудников с повышением за последние 5 лет среди:')\n",
    "print(f'текущего персонала - {round(promoted[0]*100, 2)}%')\n",
    "print(f'уволившихся - {round(promoted[1]*100, 2)}%')"
   ]
  },
  {
   "cell_type": "markdown",
   "id": "77fe0353",
   "metadata": {},
   "source": [
    "●Средняя степень удовлетворенности  "
   ]
  },
  {
   "cell_type": "code",
   "execution_count": 39,
   "id": "cc7ea02f",
   "metadata": {},
   "outputs": [
    {
     "name": "stdout",
     "output_type": "stream",
     "text": [
      "left\n",
      "0    0.666810\n",
      "1    0.440098\n",
      "Name: satisfaction_level, dtype: float64\n",
      "\n",
      "Средняя степень удовлетворенности среди:\n",
      "текущего персонала - 66.68%\n",
      "уволившихся - 44.01%\n"
     ]
    }
   ],
   "source": [
    "satisfaction = df.groupby('left')['satisfaction_level'].mean()\n",
    "print(satisfaction)\n",
    "print()\n",
    "\n",
    "print('Средняя степень удовлетворенности среди:')\n",
    "print(f'текущего персонала - {round(satisfaction[0]*100, 2)}%')\n",
    "print(f'уволившихся - {round(satisfaction[1]*100, 2)}%')"
   ]
  },
  {
   "cell_type": "markdown",
   "id": "8c0033b1",
   "metadata": {},
   "source": [
    "●Среднее количество проектов "
   ]
  },
  {
   "cell_type": "code",
   "execution_count": 44,
   "id": "870fcd52",
   "metadata": {},
   "outputs": [
    {
     "name": "stdout",
     "output_type": "stream",
     "text": [
      "left\n",
      "0    3.786664\n",
      "1    3.855503\n",
      "Name: number_project, dtype: float64\n",
      "\n",
      "Среднее количество проектов среди:\n",
      "текущего персонала - 3.79\n",
      "уволившихся - 3.86\n"
     ]
    }
   ],
   "source": [
    "projects = df.groupby('left')['number_project'].mean()\n",
    "print(projects)\n",
    "print()\n",
    "\n",
    "print('Среднее количество проектов среди:')\n",
    "print(f'текущего персонала - {round(projects[0], 2)}')\n",
    "print(f'уволившихся - {round(projects[1], 2)}')"
   ]
  },
  {
   "cell_type": "markdown",
   "id": "da50671a",
   "metadata": {},
   "source": [
    "Подавляющее число получивших повышение находится среди текущих сотрудников (94%). Удовлетворенность также выше среди текущих, чем среди уволенных. А вот среднее количество проектов у уволившихся немного выше, чем у текущих: 3.86 против 3,79. Возможно люди увольнялись, потому что их работа не была оценена должным образом и они не получали повышение."
   ]
  },
  {
   "cell_type": "markdown",
   "id": "370e847d",
   "metadata": {},
   "source": [
    "## 9. Разделить данные на тестовую и обучающую выборки. Построить модель LDA, предсказывающую уволился ли сотрудник на основе имеющихся факторов (кроме department и salary). Оценить качество модели на тестовой выборке."
   ]
  },
  {
   "cell_type": "code",
   "execution_count": 50,
   "id": "4b0cccc6",
   "metadata": {},
   "outputs": [
    {
     "name": "stdout",
     "output_type": "stream",
     "text": [
      "Тренировочная выборка:  11249\n",
      "Тестовая выборка:  3750\n"
     ]
    }
   ],
   "source": [
    "from sklearn.model_selection import train_test_split\n",
    "\n",
    "X = df.iloc[:, [0, 1, 2, 3, 4, 5, 7]]\n",
    "y = df['left']\n",
    "\n",
    "# разделим тестовую и тренировочную выборки в соотношении 25х75\n",
    "X_train, X_test, y_train, y_test = train_test_split(X, y, test_size=0.25, random_state=42)\n",
    "\n",
    "print('Тренировочная выборка: ', len(y_train))\n",
    "print('Тестовая выборка: ', len(y_test))"
   ]
  },
  {
   "cell_type": "code",
   "execution_count": 51,
   "id": "0c381f13",
   "metadata": {},
   "outputs": [
    {
     "data": {
      "text/plain": [
       "LinearDiscriminantAnalysis()"
      ]
     },
     "execution_count": 51,
     "metadata": {},
     "output_type": "execute_result"
    }
   ],
   "source": [
    "from sklearn.discriminant_analysis import LinearDiscriminantAnalysis\n",
    "lda = LinearDiscriminantAnalysis()\n",
    "lda.fit(X_train, y_train)"
   ]
  },
  {
   "cell_type": "code",
   "execution_count": 52,
   "id": "5e8da14a",
   "metadata": {},
   "outputs": [
    {
     "data": {
      "text/plain": [
       "0.7536"
      ]
     },
     "execution_count": 52,
     "metadata": {},
     "output_type": "execute_result"
    }
   ],
   "source": [
    "from sklearn.metrics import accuracy_score\n",
    "accuracy_score(y_test, lda.predict(X_test))"
   ]
  },
  {
   "cell_type": "markdown",
   "id": "4b6bde0c",
   "metadata": {},
   "source": [
    "Качество модели получилось невысокое.   \n",
    "Возможно стоит добавить больше показателей, основанных на субъективном восприятии сотрудниками корпоративной культуры, относительного уровня заработной платы, возможностей карьерного роста."
   ]
  },
  {
   "cell_type": "code",
   "execution_count": null,
   "id": "6b2d6ea2",
   "metadata": {},
   "outputs": [],
   "source": []
  }
 ],
 "metadata": {
  "kernelspec": {
   "display_name": "Python 3",
   "language": "python",
   "name": "python3"
  },
  "language_info": {
   "codemirror_mode": {
    "name": "ipython",
    "version": 3
   },
   "file_extension": ".py",
   "mimetype": "text/x-python",
   "name": "python",
   "nbconvert_exporter": "python",
   "pygments_lexer": "ipython3",
   "version": "3.8.8"
  }
 },
 "nbformat": 4,
 "nbformat_minor": 5
}
