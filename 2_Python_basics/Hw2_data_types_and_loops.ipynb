{
 "cells": [
  {
   "cell_type": "markdown",
   "metadata": {},
   "source": [
    "# Домашнее задание к лекции \"Введение в типы данных и циклы. Часть 1\""
   ]
  },
  {
   "cell_type": "markdown",
   "metadata": {},
   "source": [
    "## Задание 1"
   ]
  },
  {
   "cell_type": "code",
   "execution_count": 9,
   "metadata": {},
   "outputs": [
    {
     "name": "stdout",
     "output_type": "stream",
     "text": [
      "handmade\n",
      "dm\n"
     ]
    }
   ],
   "source": [
    "word = input()\n",
    "\n",
    "if len (word) % 2 != 0:\n",
    "    n = len (word)// 2\n",
    "    print (word [n])\n",
    "elif len (word) % 2 == 0:\n",
    "    n = len (word)// 2\n",
    "    print (word [(n-1) : (n+1)])"
   ]
  },
  {
   "cell_type": "markdown",
   "metadata": {},
   "source": [
    "## Задание 2"
   ]
  },
  {
   "cell_type": "code",
   "execution_count": 16,
   "metadata": {},
   "outputs": [
    {
     "name": "stdout",
     "output_type": "stream",
     "text": [
      "Введите число: 0\n",
      "0\n"
     ]
    }
   ],
   "source": [
    "x = []\n",
    "y = []\n",
    "\n",
    "while x != 0:\n",
    "    x = int (input('Введите число: '))\n",
    "    y.append(x)\n",
    "    if x == 0:\n",
    "        print (sum (y))"
   ]
  },
  {
   "cell_type": "markdown",
   "metadata": {},
   "source": [
    "## Задание 3"
   ]
  },
  {
   "cell_type": "code",
   "execution_count": 30,
   "metadata": {},
   "outputs": [
    {
     "name": "stdout",
     "output_type": "stream",
     "text": [
      "Идеальные пары:\n",
      "Emma и Alex\n",
      "Kate и Arthur\n",
      "Kira и John\n",
      "Liza и Peter\n",
      "Trisha и Richard\n"
     ]
    }
   ],
   "source": [
    "boys = ['Peter', 'Alex', 'John', 'Arthur', 'Richard']\n",
    "girls = ['Kate', 'Liza', 'Kira', 'Emma', 'Trisha']\n",
    "\n",
    "if len (girls) == len (boys):\n",
    "    g = sorted(girls)\n",
    "    b = sorted(boys)\n",
    "    print ('Идеальные пары:')\n",
    "    for g2, b2 in zip (g, b):\n",
    "                    print (g2, 'и', b2)\n",
    "else:\n",
    "    print ('Внимание, кто-то может остаться без пары!')"
   ]
  },
  {
   "cell_type": "markdown",
   "metadata": {},
   "source": [
    "## Задание 4"
   ]
  },
  {
   "cell_type": "code",
   "execution_count": 52,
   "metadata": {},
   "outputs": [],
   "source": [
    "countries_temperature = [\n",
    "    ['Thailand', [75.2, 77, 78.8, 73.4, 68, 75.2, 77]],\n",
    "    ['Germany', [57.2, 55.4, 59, 59, 53.6]],\n",
    "    ['Russia', [35.6, 37.4, 39.2, 41, 42.8, 39.2, 35.6]],\n",
    "    ['Poland', [50, 50, 53.6, 57.2, 55.4, 55.4]]\n",
    "]"
   ]
  },
  {
   "cell_type": "code",
   "execution_count": 63,
   "metadata": {},
   "outputs": [
    {
     "name": "stdout",
     "output_type": "stream",
     "text": [
      "Средняя температура в странах:\n",
      "Thailand - 23.9 C\n",
      "Germany - 13.8 C\n",
      "Russia - 3.7 C\n",
      "Poland - 12.0 C\n"
     ]
    }
   ],
   "source": [
    "print ('Средняя температура в странах:')\n",
    "\n",
    "for c, t in countries_temperature:\n",
    "    ave = round(((sum(t) / len(t) - 32) * 5 / 9), 1)\n",
    "    print (c, '-', ave, 'C')"
   ]
  },
  {
   "cell_type": "markdown",
   "metadata": {},
   "source": [
    "## Задание 6"
   ]
  },
  {
   "cell_type": "code",
   "execution_count": 5,
   "metadata": {},
   "outputs": [
    {
     "name": "stdout",
     "output_type": "stream",
     "text": [
      "Введите числа:\n",
      "7 8 7\n",
      "\n",
      "['7']\n"
     ]
    }
   ],
   "source": [
    "user_input = input('Введите числа:\\n').split(' ')\n",
    "repeat = []\n",
    "outcome = []\n",
    "\n",
    "for number in user_input:\n",
    "    if user_input.count(number) > 1:\n",
    "        repeat.append(number)\n",
    "        for item in repeat:\n",
    "            if item not in outcome:\n",
    "                outcome.append(item)\n",
    "print('')\n",
    "print(outcome)"
   ]
  }
 ],
 "metadata": {
  "kernelspec": {
   "display_name": "Python 3",
   "language": "python",
   "name": "python3"
  },
  "language_info": {
   "codemirror_mode": {
    "name": "ipython",
    "version": 3
   },
   "file_extension": ".py",
   "mimetype": "text/x-python",
   "name": "python",
   "nbconvert_exporter": "python",
   "pygments_lexer": "ipython3",
   "version": "3.8.5"
  }
 },
 "nbformat": 4,
 "nbformat_minor": 4
}
