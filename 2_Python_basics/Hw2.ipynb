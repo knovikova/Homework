{
 "cells": [
  {
   "cell_type": "markdown",
   "metadata": {},
   "source": [
    "# Д/з к лекции \"Основы Python\""
   ]
  },
  {
   "cell_type": "markdown",
   "metadata": {},
   "source": [
    "## Задание 1"
   ]
  },
  {
   "cell_type": "code",
   "execution_count": 1,
   "metadata": {},
   "outputs": [
    {
     "name": "stdout",
     "output_type": "stream",
     "text": [
      "Фраза 1 длиннее фразы 2\n"
     ]
    }
   ],
   "source": [
    "phrase_1 = 'bla'\n",
    "phrase_2 = 'bl'\n",
    "\n",
    "if len(phrase_1) > len(phrase_2) : \n",
    "    print('Фраза 1 длиннее фразы 2')\n",
    "elif len(phrase_1) < len(phrase_2) :\n",
    "    print('Фраза 2 длиннее фразы 1')\n",
    "else: \n",
    "    print('Фразы равной длины')"
   ]
  },
  {
   "cell_type": "markdown",
   "metadata": {},
   "source": [
    "## Задание 2"
   ]
  },
  {
   "cell_type": "code",
   "execution_count": 3,
   "metadata": {},
   "outputs": [
    {
     "name": "stdout",
     "output_type": "stream",
     "text": [
      "Високосный год\n"
     ]
    }
   ],
   "source": [
    "year = 2000\n",
    "\n",
    "if (year % 4 == 0) and (year % 100 != 0) or (year % 400 == 0):\n",
    "    print ('Високосный год')\n",
    "else:\n",
    "    print ('Обычный год')"
   ]
  },
  {
   "cell_type": "markdown",
   "metadata": {},
   "source": [
    "## Задание 3"
   ]
  },
  {
   "cell_type": "code",
   "execution_count": 11,
   "metadata": {},
   "outputs": [
    {
     "name": "stdout",
     "output_type": "stream",
     "text": [
      "Введите день (число):\n",
      "11\n",
      "Введите месяц (слово):\n",
      "апрель\n",
      "Ваш знак зодиака: Овен\n"
     ]
    }
   ],
   "source": [
    "day = int (input ('Введите день (число):\\n'))\n",
    "month = input ('Введите месяц (слово):\\n')\n",
    "\n",
    "if (21 <= day <= 31 and month == 'март') or (1 <= day <= 20 and month == 'апрель'):\n",
    "    print ('Ваш знак зодиака: Овен')\n",
    "elif (21 <= day <= 30 and month == 'апрель') or (1 <= day <= 20 and month == 'май'):\n",
    "    print ('Ваш знак зодиака: Телец')\n",
    "elif (21 <= day <= 31 and month == 'май') or (1 <= day <= 20 and month == 'июнь'):\n",
    "    print ('Ваш знак зодиака: Близнецы')\n",
    "elif (21 <= day <= 30 and month == 'июнь') or (1 <= day <= 22 and month == 'июль'):\n",
    "    print ('Ваш знак зодиака: Рак')\n",
    "elif (23 <= day <= 31 and month == 'июль') or (1 <= day <= 22 and month == 'август'):\n",
    "    print ('Ваш знак зодиака: Лев')\n",
    "elif (23 <= day <= 31 and month == 'август') or (1 <= day <= 23 and month == 'сентябрь'):\n",
    "    print ('Ваш знак зодиака: Дева')\n",
    "elif (24 <= day <= 30 and month == 'сентябрь') or (1 <= day <= 23 and month == 'октябрь'):\n",
    "    print ('Ваш знак зодиака: Весы')\n",
    "elif (24 <= day <= 31 and month == 'октябрь') or (1 <= day <= 21 and month == 'ноябрь'):\n",
    "    print ('Ваш знак зодиака: Скорпион')\n",
    "elif (22 <= day <= 30 and month == 'ноябрь') or (1 <= day <= 21 and month == 'декабрь'):\n",
    "    print ('Ваш знак зодиака: Стрелец')\n",
    "elif (22 <= day <= 31 and month == 'декабрь') or (1 <= day <= 19 and month == 'январь'):\n",
    "    print ('Ваш знак зодиака: Козерог')\n",
    "elif (20 <= day <= 31 and month == 'январь') or (1 <= day <= 18 and month == 'февраль'):\n",
    "    print ('Ваш знак зодиака: Водолей')\n",
    "elif (19 <= day <= 29 and month == 'февраль') or (1 <= day <= 20 and month == 'март'):\n",
    "    print ('Ваш знак зодиака: Рыбы')"
   ]
  },
  {
   "cell_type": "markdown",
   "metadata": {},
   "source": [
    "## Задание 4"
   ]
  },
  {
   "cell_type": "code",
   "execution_count": 13,
   "metadata": {},
   "outputs": [
    {
     "name": "stdout",
     "output_type": "stream",
     "text": [
      "Стандартная коробка №3\n"
     ]
    }
   ],
   "source": [
    "width = 95\n",
    "length = 85\n",
    "height = 100\n",
    "\n",
    "if width < 15 and length < 15 and height < 15:\n",
    "    print ('Коробка №1')\n",
    "elif 15 <= width < 50 or 15 <= length < 50 and 15 <= height < 50:\n",
    "    print ('Коробка №2')\n",
    "elif length > 200:\n",
    "    print ('Упаковка для лыж')\n",
    "else:\n",
    "    print ('Стандартная коробка №3')"
   ]
  },
  {
   "cell_type": "markdown",
   "metadata": {},
   "source": [
    "## Задание 5 (доп)"
   ]
  },
  {
   "cell_type": "code",
   "execution_count": 3,
   "metadata": {},
   "outputs": [
    {
     "name": "stdout",
     "output_type": "stream",
     "text": [
      "Счастливый билет\n"
     ]
    }
   ],
   "source": [
    "number = 159753\n",
    "a = number // 100000\n",
    "b = number // 10000 % 10\n",
    "c = number // 1000 % 10\n",
    "d = number // 100 % 10\n",
    "e = number // 10 % 10\n",
    "f = number % 10\n",
    "\n",
    "if (a + b + c) == (d + e + f):\n",
    "    print ('Счастливый билет')\n",
    "elif (a + b + c) != (d + e + f):\n",
    "    print ('Несчастливый билет')"
   ]
  },
  {
   "cell_type": "markdown",
   "metadata": {},
   "source": [
    "## Задание 6 (доп)"
   ]
  },
  {
   "cell_type": "code",
   "execution_count": 14,
   "metadata": {},
   "outputs": [
    {
     "name": "stdout",
     "output_type": "stream",
     "text": [
      "Введите тип фигуры:\n",
      "круг\n",
      "Введите радиус круга:\n",
      "9\n",
      "Площадь круга: 254.46900494077323\n"
     ]
    }
   ],
   "source": [
    "import math\n",
    "\n",
    "object = input ('Введите тип фигуры:\\n')\n",
    "\n",
    "if object == 'круг':\n",
    "    r = float (input ('Введите радиус круга:\\n'))\n",
    "    s = math.pi*r**2\n",
    "    print ('Площадь круга:', s)\n",
    "elif object == 'треугольник':\n",
    "    a = float (input('Введите длину стороны a:\\n'))\n",
    "    b = float (input('Введите длину стороны b:\\n'))\n",
    "    c = float (input('Введите длину стороны c:\\n'))\n",
    "    p = (a+b+c)/2\n",
    "    s = math.sqrt (p*(p-a)*(p-b)*(p-c))\n",
    "    print ('Площадь треугольника:', s)\n",
    "elif object == 'прямоугольник':\n",
    "    a = float (print('Введите длину стороны a:\\n'))\n",
    "    b = float (print('Введите длину стороны b:\\n'))\n",
    "    s = a*b\n",
    "    print ('Площадь прямоугольника' ,s)"
   ]
  },
  {
   "cell_type": "code",
   "execution_count": null,
   "metadata": {},
   "outputs": [],
   "source": []
  }
 ],
 "metadata": {
  "kernelspec": {
   "display_name": "Python 3",
   "language": "python",
   "name": "python3"
  },
  "language_info": {
   "codemirror_mode": {
    "name": "ipython",
    "version": 3
   },
   "file_extension": ".py",
   "mimetype": "text/x-python",
   "name": "python",
   "nbconvert_exporter": "python",
   "pygments_lexer": "ipython3",
   "version": "3.8.5"
  }
 },
 "nbformat": 4,
 "nbformat_minor": 4
}
