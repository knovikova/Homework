{
 "cells": [
  {
   "cell_type": "markdown",
   "metadata": {},
   "source": [
    "### Задание\n",
    "\n",
    "Смоделировать игру против лотерейного автомата типа “777”. Игрок платит 1 руб., после чего выпадает случайное целое число, равномерно распределенное от 0 до 999. При некоторых значениях числа игрок получает выигрыш (см. справа)\n",
    "\n",
    "Выгодна ли игра игроку?\n",
    "\n",
    "Сколько в среднем приобретает\n",
    "или теряет игрок за одну игру?\n",
    "\n",
    "777: 200 руб.\n",
    "\n",
    "999: 100 руб.\n",
    "\n",
    "555: 50 руб.\n",
    "\n",
    "333: 15 руб.\n",
    "\n",
    "111: 10 руб.\n",
    "\n",
    "*77: 5 руб.\n",
    "\n",
    "**7: 3 руб.\n",
    "\n",
    "*00: 2 руб.\n",
    "\n",
    "**0: 1 руб.\n",
    "\n",
    "*любая цифра"
   ]
  },
  {
   "cell_type": "code",
   "execution_count": 33,
   "metadata": {},
   "outputs": [
    {
     "name": "stdout",
     "output_type": "stream",
     "text": [
      "0.84316\n"
     ]
    }
   ],
   "source": [
    "import numpy as np\n",
    "\n",
    "shots = 100000 # попыток\n",
    "cost = 1 # стоимость 1 попытки\n",
    "win = 0 # сумма всех выигрышей\n",
    "\n",
    "for i in range(shots):\n",
    "    outcome = np.random.randint(0, 1000)\n",
    "    if outcome == 777:\n",
    "        win += 200\n",
    "    if outcome == 999:\n",
    "        win += 100\n",
    "    if outcome == 555:\n",
    "        win += 50\n",
    "    if outcome == 333:\n",
    "        win += 15\n",
    "    if outcome == 111:\n",
    "        win += 10\n",
    "    if outcome % 100 == 77:\n",
    "        win += 5\n",
    "    if outcome % 10 == 7:\n",
    "        win += 3\n",
    "    if outcome % 100 == 0 and outcome != 0:\n",
    "        win += 2\n",
    "    if outcome % 10 == 0 and outcome != 0:\n",
    "        win += 1\n",
    "\n",
    "# на какой средний выигрыш может рассчитывать игрок при заданном количестве попыток\n",
    "result = win / (shots * cost)\n",
    "print('{:.5f}'.format(result))"
   ]
  },
  {
   "cell_type": "markdown",
   "metadata": {},
   "source": [
    "Игра не выгодна. На каждый вложенный 1 рубль игрок в среднем получает 80 с небольшим копеек, т.е. проигрывает 10-20 копеек."
   ]
  },
  {
   "cell_type": "markdown",
   "metadata": {},
   "source": [
    "### Дополнительное задание\n",
    "Теоретически рассчитать средний выигрыш (проигрыш) и сравнить с результатами моделирования"
   ]
  },
  {
   "cell_type": "code",
   "execution_count": 34,
   "metadata": {},
   "outputs": [
    {
     "data": {
      "text/plain": [
       "0.798"
      ]
     },
     "execution_count": 34,
     "metadata": {},
     "output_type": "execute_result"
    }
   ],
   "source": [
    "# вероятность каждого события\n",
    "p = 1/1000 \n",
    "\n",
    "# количество чисел в промежутке от 0 до 999, оканчивающихся на 77\n",
    "count_77 = 0\n",
    "for n in range(0, 1000):\n",
    "    if n % 100 == 77 and n != 777:\n",
    "        count_77 += 1\n",
    "        \n",
    "# количество чисел в промежутке от 0 до 999, оканчивающихся на 7\n",
    "count_7 = 0\n",
    "for n in range(0, 1000):\n",
    "    if n % 10 == 7 and n != 777 and n % 100 != 77:\n",
    "        count_7 += 1\n",
    "        \n",
    "# количество чисел в промежутке от 0 до 999, кратных 100\n",
    "count_100 = 0\n",
    "for n in range(0, 1000):\n",
    "    if n % 100 == 0 and n != 0:\n",
    "        count_100 += 1\n",
    "\n",
    "# количество чисел в промежутке от 0 до 999, кратных 10\n",
    "count_10 = 0\n",
    "for n in range(0, 1000):\n",
    "    if n % 10 == 0 and n != 0 and n % 100 != 0:\n",
    "        count_10 += 1\n",
    "        \n",
    "# суммарная вероятность\n",
    "win_calc = 200*p + 100*p + 50*p + 15*p + 10*p + 5*p*count_77 + 3*p*count_7 + 2*p*count_100 + 1*p*count_10\n",
    "win_calc"
   ]
  },
  {
   "cell_type": "markdown",
   "metadata": {},
   "source": [
    "Аналогично, при теоретическом расчете средний выигрыш составляет около 80 копеек, т.е. игрок фактически проигрывает 20 копеек на вложенный рубль."
   ]
  },
  {
   "cell_type": "code",
   "execution_count": null,
   "metadata": {},
   "outputs": [],
   "source": []
  }
 ],
 "metadata": {
  "kernelspec": {
   "display_name": "Python 3",
   "language": "python",
   "name": "python3"
  },
  "language_info": {
   "codemirror_mode": {
    "name": "ipython",
    "version": 3
   },
   "file_extension": ".py",
   "mimetype": "text/x-python",
   "name": "python",
   "nbconvert_exporter": "python",
   "pygments_lexer": "ipython3",
   "version": "3.8.5"
  }
 },
 "nbformat": 4,
 "nbformat_minor": 4
}
