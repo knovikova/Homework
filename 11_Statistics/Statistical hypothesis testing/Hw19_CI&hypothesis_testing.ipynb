{
 "cells": [
  {
   "cell_type": "code",
   "execution_count": 5,
   "metadata": {},
   "outputs": [],
   "source": [
    "import pandas as pd\n",
    "import scipy as sp\n",
    "import numpy as np\n",
    "import matplotlib.pyplot as plt\n",
    "from scipy.stats import chi2_contingency\n",
    "import scipy.stats as stats"
   ]
  },
  {
   "cell_type": "markdown",
   "metadata": {},
   "source": [
    "## Задание 1. \n",
    "Найдите минимально необходимый объем выборки для построения интервальной оценки среднего с точностью ∆ = 3, дисперсией σ^2 = 225 и уровнем доверия β = 0.95."
   ]
  },
  {
   "cell_type": "code",
   "execution_count": 18,
   "metadata": {
    "scrolled": true
   },
   "outputs": [
    {
     "name": "stdout",
     "output_type": "stream",
     "text": [
      "Minimal sample size is 96\n"
     ]
    }
   ],
   "source": [
    "delta = 3\n",
    "dispersion_sqrd = 225\n",
    "\n",
    "# significance level (1 - 0.95)\n",
    "a = 0.05 \n",
    "\n",
    "# ищем квантиль нормального распределения уровня 1-а/2 = 0.975 в таблице нормального распределения\n",
    "Z = 1.96\n",
    "\n",
    "n = dispersion_sqrd * (Z / delta)**2\n",
    "print(f'Minimal sample size is {round(n)}')"
   ]
  },
  {
   "cell_type": "markdown",
   "metadata": {},
   "source": [
    "## Задание 2. \n",
    "Вам даны две выборки роста мужчин и женщин. Докажите, используя t-Тест Стьдента, что различия между выборками незначительно, если уровень значимости равен 0.001"
   ]
  },
  {
   "cell_type": "code",
   "execution_count": 17,
   "metadata": {},
   "outputs": [
    {
     "name": "stdout",
     "output_type": "stream",
     "text": [
      "t-statistic: 0.8967485483611628\n",
      "p-value: 0.36987105673457055\n",
      "\n",
      "No significant difference identified\n"
     ]
    }
   ],
   "source": [
    "a = 0.001\n",
    "\n",
    "population_men  =stats.norm.rvs(loc=19,scale=171,size=11000000)  # Выборка мужчин со средним ростом 171\n",
    "population_women=stats.norm.rvs(loc=16,scale=165,size=12000)  # Выборка женщин со средним ростом 165\n",
    "\n",
    "# equal_var=False, as means, variance, n are different for each sample\n",
    "t, p = stats.ttest_ind(population_men, population_women, equal_var=False)\n",
    "print(f't-statistic: {t}')\n",
    "print(f'p-value: {p}')\n",
    "print()\n",
    "\n",
    "if p > a:\n",
    "    print('No significant difference was found')\n",
    "else:\n",
    "    print('Differences between two samples shoul be taken into account')"
   ]
  },
  {
   "cell_type": "markdown",
   "metadata": {},
   "source": [
    "## Задание 3. \n",
    "Определите объем необходимой выборки для исследования среднего чека за кофе в случайном городе, если известно, что в этом городе стандартное отклонение = 150, уровень доверия = 95%. Погрешность 50 рублей. "
   ]
  },
  {
   "cell_type": "code",
   "execution_count": 19,
   "metadata": {},
   "outputs": [
    {
     "name": "stdout",
     "output_type": "stream",
     "text": [
      "Minimal sample size is 35\n"
     ]
    }
   ],
   "source": [
    "s = 150\n",
    "CI = 0.95\n",
    "delta = 50\n",
    "\n",
    "a = 1 - CI\n",
    "\n",
    "# ищем квантиль нормального распределения уровня 1-а/2 = 0.975 в таблице нормального распределения\n",
    "Z = 1.96\n",
    "\n",
    "n1 = (Z * s / delta)**2\n",
    "print(f'Minimal sample size is {round(n1)}')"
   ]
  },
  {
   "cell_type": "markdown",
   "metadata": {},
   "source": [
    "## Задание 4.  \n",
    "Представьте, что вы хотите разоблачить \"волшебника\", который считает, что умеет предсказывать погоду на завтра. Отвечая просто: дождь или солнце. Вы пронаблюдали за ответами \"волшебника\" в течении какого периода времени и получили такие результаты (см.ниже). Можно ли сказать, что маг действительно умеет предсказывать погоду, \n",
    "если уровнь значимости принять за 0.05 ?"
   ]
  },
  {
   "cell_type": "code",
   "execution_count": 20,
   "metadata": {},
   "outputs": [
    {
     "data": {
      "text/html": [
       "<div>\n",
       "<style scoped>\n",
       "    .dataframe tbody tr th:only-of-type {\n",
       "        vertical-align: middle;\n",
       "    }\n",
       "\n",
       "    .dataframe tbody tr th {\n",
       "        vertical-align: top;\n",
       "    }\n",
       "\n",
       "    .dataframe thead th {\n",
       "        text-align: right;\n",
       "    }\n",
       "</style>\n",
       "<table border=\"1\" class=\"dataframe\">\n",
       "  <thead>\n",
       "    <tr style=\"text-align: right;\">\n",
       "      <th></th>\n",
       "      <th>Ответ волшебника</th>\n",
       "      <th>Реальность</th>\n",
       "    </tr>\n",
       "  </thead>\n",
       "  <tbody>\n",
       "    <tr>\n",
       "      <th>Дождь</th>\n",
       "      <td>25</td>\n",
       "      <td>36</td>\n",
       "    </tr>\n",
       "    <tr>\n",
       "      <th>Солнце</th>\n",
       "      <td>15</td>\n",
       "      <td>44</td>\n",
       "    </tr>\n",
       "  </tbody>\n",
       "</table>\n",
       "</div>"
      ],
      "text/plain": [
       "        Ответ волшебника  Реальность\n",
       "Дождь                 25          36\n",
       "Солнце                15          44"
      ]
     },
     "execution_count": 20,
     "metadata": {},
     "output_type": "execute_result"
    }
   ],
   "source": [
    "observations = pd.DataFrame([[25,36],[15,44]],\n",
    "                            index=['Дождь','Солнце'],\n",
    "                            columns=['Ответ волшебника','Реальность'])\n",
    "observations"
   ]
  },
  {
   "cell_type": "code",
   "execution_count": 24,
   "metadata": {},
   "outputs": [
    {
     "name": "stdout",
     "output_type": "stream",
     "text": [
      "p-value: 0.08323639416753109\n",
      "\n",
      "The wizard is fake\n"
     ]
    }
   ],
   "source": [
    "a = 0.05\n",
    "\n",
    "# Perform a Fisher exact test on a 2x2 contingency table\n",
    "oddsratio, p = stats.fisher_exact(observations)\n",
    "print(f'p-value: {p}')\n",
    "print()\n",
    "\n",
    "if p > a:\n",
    "    print('The wizard is fake')\n",
    "else:\n",
    "    print('He is a real wizard!')"
   ]
  },
  {
   "cell_type": "markdown",
   "metadata": {},
   "source": [
    "## Задание 5. \n",
    "Используя функцию mean_confidence_interval(data, confidence), постройте доверительный интервал с уровнем доверия 90% для выборки: data = [1,5,8,9,6,7,5,6,7,8,5,6,7,0,9,8,4,6,7,9,8,6,5,7,8,9,6,7,5,8,6,7,9,5]\n"
   ]
  },
  {
   "cell_type": "code",
   "execution_count": 22,
   "metadata": {},
   "outputs": [],
   "source": [
    "# t-статистика при малой выборке\n",
    "def mean_confidence_interval_t(data, confidence):\n",
    "    n = len(data)\n",
    "    m = np.mean(data) \n",
    "    se = stats.sem(data)\n",
    "    h = se * stats.t.ppf((1 + confidence)/2, n) # ppf возвращает перцентиль\n",
    "    return m-h, m+h\n",
    "\n",
    "# нормальное распределение при большой выборке\n",
    "def mean_confidence_interval_n(data, confidence):\n",
    "    m = np.mean(data) \n",
    "    se = stats.sem(data)\n",
    "    conf_int = stats.norm.interval(confidence, loc=m, scale=se)\n",
    "    return conf_int\n"
   ]
  },
  {
   "cell_type": "code",
   "execution_count": 23,
   "metadata": {},
   "outputs": [
    {
     "name": "stdout",
     "output_type": "stream",
     "text": [
      "(5.859358559159514, 7.022994382016957)\n"
     ]
    }
   ],
   "source": [
    "data = [1,5,8,9,6,7,5,6,7,8,5,6,7,0,9,8,4,6,7,9,8,6,5,7,8,9,6,7,5,8,6,7,9,5]\n",
    "\n",
    "if len(data) <= 30: # если выборка небольшая, используем t-распределение\n",
    "    print(mean_confidence_interval_t(data, 0.9))\n",
    "else: # если выборка большая, используем нормальное распределение\n",
    "    print(mean_confidence_interval_n(data, 0.9))\n"
   ]
  },
  {
   "cell_type": "markdown",
   "metadata": {},
   "source": [
    "## Задание 6. \n",
    "Принадлежит ли выборка data_1 и data_2 одному множеству? Оцените это с помощью известных вам тестов проверки гипотез."
   ]
  },
  {
   "cell_type": "code",
   "execution_count": 32,
   "metadata": {},
   "outputs": [
    {
     "name": "stdout",
     "output_type": "stream",
     "text": [
      "p-value = 0.0000000000212\n"
     ]
    }
   ],
   "source": [
    "data_1 = [4,5,8,9,6,7,5,6,7,8,5,6,7,0,9,8,4,6,7,9,8,6,5,7,8,9,6,7,5,8,6,7,9,5,10]\n",
    "data_2 = [8,5,6,7,0,1,8,4,6,7,0,2,6,5,7,5,3,5,3,5,3,5,5,8,7,6,4,5,3,5,4,6,4,5,3,2,6,4,2,6,1,0,4,3,5,4,3,4,5,4,3,4,5,4,3,4,5,3,4,4,1,2,4,3,1,2,4,3,2,1,5,3,4,6,4,5,3,2,4,5,6,4,3,1,3,5,3,4,4,4,2,5,3]\n",
    "\n",
    "# проверяем гипотезу Н0: М1 = М2\n",
    "# с помощью t-критерия\n",
    "t2, p2 = stats.ttest_ind(a=data_1, b=data_2)\n",
    "print('p-value = {:.13f}'.format(float(p2)))"
   ]
  },
  {
   "cell_type": "markdown",
   "metadata": {},
   "source": [
    "P-value стремится к 0, отвергаем Н0. Мат.ожидания не совпадают, следовательно можно утверждать, что выборки принадлежат разным множествам."
   ]
  },
  {
   "cell_type": "markdown",
   "metadata": {},
   "source": [
    "## Задание 7. \n",
    "На примере датасета про жилье в New York City, мы сталкивались с примером, когда переменная имеет не совсем нормальное распределение. \n",
    "\n",
    "Предположим, Вы сформировали две гипотезы:\n",
    "Нулевая гипотеза - распределение нормальное, \n",
    "Альтернативная гипотеза - распределение не нормальное.\n",
    "\n",
    "\n",
    "Допустим, вы применили какой-то тест (сейчас неважно какой), который показал уровень значимости (p-value) = 0.03.\n",
    "Каковы будут ваши выводы? Будем считать что у нас нормальное распределение или все-таки нет? Вопрос без подвоха)"
   ]
  },
  {
   "cell_type": "markdown",
   "metadata": {},
   "source": [
    "Если уровень значимости для наших целей составляет 0.05, то отвергаем Н0, т.е. имеющиеся данные не гоорят о нормальности распределения."
   ]
  },
  {
   "cell_type": "markdown",
   "metadata": {},
   "source": [
    "## Задание 8. \n",
    "Первая выборка — это пациенты, которых лечили препаратом А. \n",
    "Вторая выборка — пациенты, которых лечили препаратом Б. Значения в выборках — это некоторая характеристика эффективности лечения (уровень метаболита в крови, температура через три дня после начала лечения, срок выздоровления, число койко-дней, и т.д.) \n",
    "\n",
    "а) Требуется выяснить, имеется ли значимое различие эффективности препаратов А и Б, или различия являются чисто случайными и объясняются «естественной» дисперсией выбранной характеристики?  (уровень значимости принять за 5% или 0.05)\n",
    "\n",
    "b) При каком минимальном P-values различия были бы уже значимы? "
   ]
  },
  {
   "cell_type": "code",
   "execution_count": 43,
   "metadata": {},
   "outputs": [
    {
     "name": "stdout",
     "output_type": "stream",
     "text": [
      "t-statistic = 0.33196234898293125\n",
      "p-value = 0.7400341626811637\n",
      "\n",
      "a) Не отергаем Н0, т.е. различий в эффективности нет\n"
     ]
    }
   ],
   "source": [
    "np.random.seed(11)\n",
    "A = stats.norm.rvs(scale=50,loc=10,size=300)\n",
    "B = A+stats.norm.rvs(scale=10,loc=-1.25,size=300)\n",
    "\n",
    "# Н0: различий в эффективности нет\n",
    "t3, p3 = stats.ttest_ind(a=A, b=B, equal_var=False)\n",
    "print(f't-statistic = {t3}\\np-value = {p3}')\n",
    "print()\n",
    "\n",
    "if p3 < 0.05:\n",
    "    print('a) Отвергаем Н0, т.е. различия в эффективности есть')\n",
    "else:\n",
    "    print('a) Не отергаем Н0, т.е. различий в эффективности нет')"
   ]
  },
  {
   "cell_type": "markdown",
   "metadata": {},
   "source": [
    "b) При p-value 0.05 можно было было бы говорить о том, что различия имеются. Чем более низкий уровень p-value по сравнению с уронем значимости, тем различия более значимы."
   ]
  },
  {
   "cell_type": "code",
   "execution_count": null,
   "metadata": {},
   "outputs": [],
   "source": []
  }
 ],
 "metadata": {
  "kernelspec": {
   "display_name": "Python 3",
   "language": "python",
   "name": "python3"
  },
  "language_info": {
   "codemirror_mode": {
    "name": "ipython",
    "version": 3
   },
   "file_extension": ".py",
   "mimetype": "text/x-python",
   "name": "python",
   "nbconvert_exporter": "python",
   "pygments_lexer": "ipython3",
   "version": "3.8.5"
  }
 },
 "nbformat": 4,
 "nbformat_minor": 4
}
