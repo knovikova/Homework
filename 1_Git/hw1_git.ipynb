{
 "cells": [
  {
   "cell_type": "markdown",
   "metadata": {},
   "source": [
    "Задание 1: https://pastenow.ru/a412877e0d6988ca035fdf061e260aed\n",
    "        \n",
    "Задание 2: https://pastenow.ru/42ac39ff6f5baeae431ffd87825784b4\n",
    "https://pastenow.ru/0cb0d9f52e8e0b00d70680b7ca9a7a88"
   ]
  }
 ],
 "metadata": {
  "kernelspec": {
   "display_name": "Python 3",
   "language": "python",
   "name": "python3"
  },
  "language_info": {
   "codemirror_mode": {
    "name": "ipython",
    "version": 3
   },
   "file_extension": ".py",
   "mimetype": "text/x-python",
   "name": "python",
   "nbconvert_exporter": "python",
   "pygments_lexer": "ipython3",
   "version": "3.8.5"
  }
 },
 "nbformat": 4,
 "nbformat_minor": 4
}
